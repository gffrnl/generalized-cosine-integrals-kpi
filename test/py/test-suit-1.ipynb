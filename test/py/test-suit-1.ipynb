{
 "cells": [
  {
   "cell_type": "markdown",
   "metadata": {},
   "source": [
    "# Test suit - 1\n",
    "* Supplementaty material to the work ``An accurate numerical method for the computation of a class of generalized cosine integrals`` submitted to CNMAC 2024.\n",
    "* Authors: Guilherme F. Fornel, Fabio S. de Azevedo, Matheus C. Santos, and Esequia Sauter.\n",
    " \n",
    "* In this notebook, we illustrate the usage of the implementation and present comparisons of the results produced by our routine with values obtained by directed integration with multiple precision aritmethics, and those calculated my Maplesoft 15.\n"
   ]
  },
  {
   "cell_type": "code",
   "execution_count": 5,
   "metadata": {},
   "outputs": [],
   "source": [
    "#import matplotlib.pyplot as plt\n",
    "import numpy as np\n",
    "import ctypes\n",
    "\n",
    "libgcikpi = ctypes.CDLL('../../build/libgcikpi.so')\n",
    "libgcikpi.gzed_cosine_integral_pi_coef.restype = ctypes.c_double\n",
    "libgcikpi.gzed_cosine_integral_pi_coef.argtypes = [ctypes.c_uint, ctypes.c_double, ctypes.c_double]\n",
    "# The function 'gzed_cosine_integral_pi_coef()' has the following signature:\n",
    "# double gzed_cosine_integral_pi_coef(unsigned int k, double alpha, double deltax)"
   ]
  },
  {
   "cell_type": "code",
   "execution_count": 6,
   "metadata": {},
   "outputs": [],
   "source": [
    "def ULPs(control, approx):\n",
    "    \"\"\"\n",
    "    Calculate the number of ULPs between two floating point numbers.\n",
    "\n",
    "    Parameters\n",
    "    ----------\n",
    "    control : float in higher precision\n",
    "        The precise value.\n",
    "    approx : float in current precision\n",
    "        The approximate value.\n",
    "\n",
    "    Returns\n",
    "    -------\n",
    "    ulp : float\n",
    "        The number of ULPs between the two values.\n",
    "    \"\"\"\n",
    "    \n",
    "    target = type(control)(approx)\n",
    "    \n",
    "    abs_control = abs(control)\n",
    "    abs_target = type(approx)(abs_control)\n",
    "    eps = type(control)(np.nextafter(abs_target, abs_target + 1) - abs_target)\n",
    "    ulp = type(approx)((target - control)/eps)\n",
    "    return ulp"
   ]
  },
  {
   "cell_type": "code",
   "execution_count": 7,
   "metadata": {},
   "outputs": [],
   "source": [
    "def compare_maple(k):\n",
    "    error_in_ULPs = []\n",
    "    values = []\n",
    "    with open(f\"maple_comparison/Ikmaple_{k:03d}.dat\") as f:\n",
    "        for line in f.readlines():\n",
    "            # Parse values from file\n",
    "            alpha, mu_control_str = line.split(',')\n",
    "            alpha_float = float(alpha)\n",
    "            # Convert mu_control to np.float128\n",
    "            mu_control = np.float128(mu_control_str[:30])\n",
    "            # Calculate mu_test\n",
    "            mu_test = libgcikpi.gzed_cosine_integral_pi_coef(k, alpha_float, 1.0)\n",
    "            # Calculate error in ULPs\n",
    "            error = ULPs(mu_control, mu_test)\n",
    "            error_in_ULPs.append(error)\n",
    "            values.append(alpha_float)\n",
    "    return np.array(values), np.array(error_in_ULPs)"
   ]
  },
  {
   "cell_type": "code",
   "execution_count": 8,
   "metadata": {},
   "outputs": [
    {
     "ename": "AttributeError",
     "evalue": "../../bin/libgcikpi.so: undefined symbol: spectral_method_coef",
     "output_type": "error",
     "traceback": [
      "\u001b[0;31m---------------------------------------------------------------------------\u001b[0m",
      "\u001b[0;31mAttributeError\u001b[0m                            Traceback (most recent call last)",
      "Cell \u001b[0;32mIn[8], line 3\u001b[0m\n\u001b[1;32m      1\u001b[0m \u001b[38;5;66;03m# Plot the error in ULPs for a given k value\u001b[39;00m\n\u001b[1;32m      2\u001b[0m k \u001b[38;5;241m=\u001b[39m \u001b[38;5;241m100\u001b[39m\n\u001b[0;32m----> 3\u001b[0m alpha, ulp \u001b[38;5;241m=\u001b[39m \u001b[43mcompare_maple\u001b[49m\u001b[43m(\u001b[49m\u001b[43mk\u001b[49m\u001b[43m)\u001b[49m\n\u001b[1;32m      4\u001b[0m plt\u001b[38;5;241m.\u001b[39mplot(alpha, ulp, \u001b[38;5;124m'\u001b[39m\u001b[38;5;124mo\u001b[39m\u001b[38;5;124m'\u001b[39m)\n\u001b[1;32m      5\u001b[0m plt\u001b[38;5;241m.\u001b[39msuptitle(\u001b[38;5;124mf\u001b[39m\u001b[38;5;124m'\u001b[39m\u001b[38;5;124mError in ULPs for k = \u001b[39m\u001b[38;5;132;01m{\u001b[39;00mk\u001b[38;5;132;01m}\u001b[39;00m\u001b[38;5;124m in function of alpha\u001b[39m\u001b[38;5;124m'\u001b[39m)\n",
      "Cell \u001b[0;32mIn[7], line 12\u001b[0m, in \u001b[0;36mcompare_maple\u001b[0;34m(k)\u001b[0m\n\u001b[1;32m     10\u001b[0m mu_control \u001b[38;5;241m=\u001b[39m np\u001b[38;5;241m.\u001b[39mfloat128(mu_control_str[:\u001b[38;5;241m30\u001b[39m])\n\u001b[1;32m     11\u001b[0m \u001b[38;5;66;03m# Calculate mu_test\u001b[39;00m\n\u001b[0;32m---> 12\u001b[0m mu_test \u001b[38;5;241m=\u001b[39m \u001b[43mspectral\u001b[49m\u001b[38;5;241;43m.\u001b[39;49m\u001b[43mspectral_method_coef\u001b[49m(k, alpha_float, \u001b[38;5;241m1.0\u001b[39m)\n\u001b[1;32m     13\u001b[0m \u001b[38;5;66;03m# Calculate error in ULPs\u001b[39;00m\n\u001b[1;32m     14\u001b[0m error \u001b[38;5;241m=\u001b[39m ULPs(mu_control, mu_test)\n",
      "File \u001b[0;32m/usr/lib/python3.11/ctypes/__init__.py:389\u001b[0m, in \u001b[0;36mCDLL.__getattr__\u001b[0;34m(self, name)\u001b[0m\n\u001b[1;32m    387\u001b[0m \u001b[38;5;28;01mif\u001b[39;00m name\u001b[38;5;241m.\u001b[39mstartswith(\u001b[38;5;124m'\u001b[39m\u001b[38;5;124m__\u001b[39m\u001b[38;5;124m'\u001b[39m) \u001b[38;5;129;01mand\u001b[39;00m name\u001b[38;5;241m.\u001b[39mendswith(\u001b[38;5;124m'\u001b[39m\u001b[38;5;124m__\u001b[39m\u001b[38;5;124m'\u001b[39m):\n\u001b[1;32m    388\u001b[0m     \u001b[38;5;28;01mraise\u001b[39;00m \u001b[38;5;167;01mAttributeError\u001b[39;00m(name)\n\u001b[0;32m--> 389\u001b[0m func \u001b[38;5;241m=\u001b[39m \u001b[38;5;28;43mself\u001b[39;49m\u001b[38;5;241;43m.\u001b[39;49m\u001b[38;5;21;43m__getitem__\u001b[39;49m\u001b[43m(\u001b[49m\u001b[43mname\u001b[49m\u001b[43m)\u001b[49m\n\u001b[1;32m    390\u001b[0m \u001b[38;5;28msetattr\u001b[39m(\u001b[38;5;28mself\u001b[39m, name, func)\n\u001b[1;32m    391\u001b[0m \u001b[38;5;28;01mreturn\u001b[39;00m func\n",
      "File \u001b[0;32m/usr/lib/python3.11/ctypes/__init__.py:394\u001b[0m, in \u001b[0;36mCDLL.__getitem__\u001b[0;34m(self, name_or_ordinal)\u001b[0m\n\u001b[1;32m    393\u001b[0m \u001b[38;5;28;01mdef\u001b[39;00m \u001b[38;5;21m__getitem__\u001b[39m(\u001b[38;5;28mself\u001b[39m, name_or_ordinal):\n\u001b[0;32m--> 394\u001b[0m     func \u001b[38;5;241m=\u001b[39m \u001b[38;5;28;43mself\u001b[39;49m\u001b[38;5;241;43m.\u001b[39;49m\u001b[43m_FuncPtr\u001b[49m\u001b[43m(\u001b[49m\u001b[43m(\u001b[49m\u001b[43mname_or_ordinal\u001b[49m\u001b[43m,\u001b[49m\u001b[43m \u001b[49m\u001b[38;5;28;43mself\u001b[39;49m\u001b[43m)\u001b[49m\u001b[43m)\u001b[49m\n\u001b[1;32m    395\u001b[0m     \u001b[38;5;28;01mif\u001b[39;00m \u001b[38;5;129;01mnot\u001b[39;00m \u001b[38;5;28misinstance\u001b[39m(name_or_ordinal, \u001b[38;5;28mint\u001b[39m):\n\u001b[1;32m    396\u001b[0m         func\u001b[38;5;241m.\u001b[39m\u001b[38;5;18m__name__\u001b[39m \u001b[38;5;241m=\u001b[39m name_or_ordinal\n",
      "\u001b[0;31mAttributeError\u001b[0m: ../../bin/libgcikpi.so: undefined symbol: spectral_method_coef"
     ]
    }
   ],
   "source": [
    "# Plot the error in ULPs for a given k value\n",
    "k = 100\n",
    "alpha, ulp = compare_maple(k)\n",
    "plt.plot(alpha, ulp, 'o')\n",
    "plt.suptitle(f'Error in ULPs for k = {k} in function of alpha')\n",
    "plt.xlabel('alpha')\n",
    "plt.show()"
   ]
  },
  {
   "cell_type": "code",
   "execution_count": 9,
   "metadata": {},
   "outputs": [
    {
     "ename": "NameError",
     "evalue": "name 'alpha' is not defined",
     "output_type": "error",
     "traceback": [
      "\u001b[0;31m---------------------------------------------------------------------------\u001b[0m",
      "\u001b[0;31mNameError\u001b[0m                                 Traceback (most recent call last)",
      "Cell \u001b[0;32mIn[9], line 2\u001b[0m\n\u001b[1;32m      1\u001b[0m \u001b[38;5;66;03m# Compare the error in ULPs for all k values between 1 and 100\u001b[39;00m\n\u001b[0;32m----> 2\u001b[0m ulps \u001b[38;5;241m=\u001b[39m np\u001b[38;5;241m.\u001b[39mzeros((\u001b[38;5;241m99\u001b[39m, \u001b[38;5;28mlen\u001b[39m(\u001b[43malpha\u001b[49m)))\n\u001b[1;32m      3\u001b[0m \u001b[38;5;28;01mfor\u001b[39;00m k \u001b[38;5;129;01min\u001b[39;00m \u001b[38;5;28mrange\u001b[39m(\u001b[38;5;241m0\u001b[39m, \u001b[38;5;241m99\u001b[39m):\n\u001b[1;32m      4\u001b[0m     alpha, ulp \u001b[38;5;241m=\u001b[39m compare_maple(k\u001b[38;5;241m+\u001b[39m\u001b[38;5;241m1\u001b[39m)\n",
      "\u001b[0;31mNameError\u001b[0m: name 'alpha' is not defined"
     ]
    }
   ],
   "source": [
    "# Compare the error in ULPs for all k values between 1 and 100\n",
    "ulps = np.zeros((99, len(alpha)))\n",
    "for k in range(0, 99):\n",
    "    alpha, ulp = compare_maple(k+1)\n",
    "    ulps[k] = ulp"
   ]
  },
  {
   "cell_type": "code",
   "execution_count": 10,
   "metadata": {},
   "outputs": [
    {
     "ename": "NameError",
     "evalue": "name 'plt' is not defined",
     "output_type": "error",
     "traceback": [
      "\u001b[0;31m---------------------------------------------------------------------------\u001b[0m",
      "\u001b[0;31mNameError\u001b[0m                                 Traceback (most recent call last)",
      "Cell \u001b[0;32mIn[10], line 2\u001b[0m\n\u001b[1;32m      1\u001b[0m \u001b[38;5;66;03m# Plot the maximum and minimum error in ULPs for all k values\u001b[39;00m\n\u001b[0;32m----> 2\u001b[0m fig, ax \u001b[38;5;241m=\u001b[39m \u001b[43mplt\u001b[49m\u001b[38;5;241m.\u001b[39msubplots(\u001b[38;5;241m1\u001b[39m, \u001b[38;5;241m2\u001b[39m, figsize\u001b[38;5;241m=\u001b[39m(\u001b[38;5;241m12\u001b[39m, \u001b[38;5;241m6\u001b[39m))\n\u001b[1;32m      3\u001b[0m ax[\u001b[38;5;241m0\u001b[39m]\u001b[38;5;241m.\u001b[39mplot(alpha, ulps\u001b[38;5;241m.\u001b[39mmax(axis\u001b[38;5;241m=\u001b[39m\u001b[38;5;241m0\u001b[39m), \u001b[38;5;124m'\u001b[39m\u001b[38;5;124mo\u001b[39m\u001b[38;5;124m'\u001b[39m, label\u001b[38;5;241m=\u001b[39m\u001b[38;5;124m'\u001b[39m\u001b[38;5;124mmax\u001b[39m\u001b[38;5;124m'\u001b[39m)\n\u001b[1;32m      4\u001b[0m ax[\u001b[38;5;241m0\u001b[39m]\u001b[38;5;241m.\u001b[39mplot(alpha, ulps\u001b[38;5;241m.\u001b[39mmin(axis\u001b[38;5;241m=\u001b[39m\u001b[38;5;241m0\u001b[39m), \u001b[38;5;124m'\u001b[39m\u001b[38;5;124mo\u001b[39m\u001b[38;5;124m'\u001b[39m, label\u001b[38;5;241m=\u001b[39m\u001b[38;5;124m'\u001b[39m\u001b[38;5;124mmin\u001b[39m\u001b[38;5;124m'\u001b[39m)\n",
      "\u001b[0;31mNameError\u001b[0m: name 'plt' is not defined"
     ]
    }
   ],
   "source": [
    "# Plot the maximum and minimum error in ULPs for all k values\n",
    "fig, ax = plt.subplots(1, 2, figsize=(12, 6))\n",
    "ax[0].plot(alpha, ulps.max(axis=0), 'o', label='max')\n",
    "ax[0].plot(alpha, ulps.min(axis=0), 'o', label='min')\n",
    "ax[0].set_title('Maximum and minimum error \\n in ULPs for k = 1 to 100')\n",
    "ax[0].legend()\n",
    "ax[0].set_xlabel('alpha')\n",
    "\n",
    "ax[1].plot(alpha, np.abs(ulps).max(axis=0), 'o', label='max abs$')\n",
    "ax[1].plot(alpha, np.abs(ulps).mean(axis=0), 'o', label='average abs')\n",
    "ax[1].set_title('Maximum and average absolute error\\n in ULPs for k = 1 to 100')\n",
    "ax[1].legend()\n",
    "ax[1].set_xlabel('alpha')\n",
    "plt.show()"
   ]
  },
  {
   "cell_type": "code",
   "execution_count": 11,
   "metadata": {},
   "outputs": [
    {
     "ename": "AttributeError",
     "evalue": "../../bin/libgcikpi.so: undefined symbol: spectral_method_coef",
     "output_type": "error",
     "traceback": [
      "\u001b[0;31m---------------------------------------------------------------------------\u001b[0m",
      "\u001b[0;31mAttributeError\u001b[0m                            Traceback (most recent call last)",
      "Cell \u001b[0;32mIn[11], line 1\u001b[0m\n\u001b[0;32m----> 1\u001b[0m \u001b[43mspectral\u001b[49m\u001b[38;5;241;43m.\u001b[39;49m\u001b[43mspectral_method_coef\u001b[49m(\u001b[38;5;241m2\u001b[39m, \u001b[38;5;241m1.0\u001b[39m, \u001b[38;5;241m1.0\u001b[39m)\n",
      "File \u001b[0;32m/usr/lib/python3.11/ctypes/__init__.py:389\u001b[0m, in \u001b[0;36mCDLL.__getattr__\u001b[0;34m(self, name)\u001b[0m\n\u001b[1;32m    387\u001b[0m \u001b[38;5;28;01mif\u001b[39;00m name\u001b[38;5;241m.\u001b[39mstartswith(\u001b[38;5;124m'\u001b[39m\u001b[38;5;124m__\u001b[39m\u001b[38;5;124m'\u001b[39m) \u001b[38;5;129;01mand\u001b[39;00m name\u001b[38;5;241m.\u001b[39mendswith(\u001b[38;5;124m'\u001b[39m\u001b[38;5;124m__\u001b[39m\u001b[38;5;124m'\u001b[39m):\n\u001b[1;32m    388\u001b[0m     \u001b[38;5;28;01mraise\u001b[39;00m \u001b[38;5;167;01mAttributeError\u001b[39;00m(name)\n\u001b[0;32m--> 389\u001b[0m func \u001b[38;5;241m=\u001b[39m \u001b[38;5;28;43mself\u001b[39;49m\u001b[38;5;241;43m.\u001b[39;49m\u001b[38;5;21;43m__getitem__\u001b[39;49m\u001b[43m(\u001b[49m\u001b[43mname\u001b[49m\u001b[43m)\u001b[49m\n\u001b[1;32m    390\u001b[0m \u001b[38;5;28msetattr\u001b[39m(\u001b[38;5;28mself\u001b[39m, name, func)\n\u001b[1;32m    391\u001b[0m \u001b[38;5;28;01mreturn\u001b[39;00m func\n",
      "File \u001b[0;32m/usr/lib/python3.11/ctypes/__init__.py:394\u001b[0m, in \u001b[0;36mCDLL.__getitem__\u001b[0;34m(self, name_or_ordinal)\u001b[0m\n\u001b[1;32m    393\u001b[0m \u001b[38;5;28;01mdef\u001b[39;00m \u001b[38;5;21m__getitem__\u001b[39m(\u001b[38;5;28mself\u001b[39m, name_or_ordinal):\n\u001b[0;32m--> 394\u001b[0m     func \u001b[38;5;241m=\u001b[39m \u001b[38;5;28;43mself\u001b[39;49m\u001b[38;5;241;43m.\u001b[39;49m\u001b[43m_FuncPtr\u001b[49m\u001b[43m(\u001b[49m\u001b[43m(\u001b[49m\u001b[43mname_or_ordinal\u001b[49m\u001b[43m,\u001b[49m\u001b[43m \u001b[49m\u001b[38;5;28;43mself\u001b[39;49m\u001b[43m)\u001b[49m\u001b[43m)\u001b[49m\n\u001b[1;32m    395\u001b[0m     \u001b[38;5;28;01mif\u001b[39;00m \u001b[38;5;129;01mnot\u001b[39;00m \u001b[38;5;28misinstance\u001b[39m(name_or_ordinal, \u001b[38;5;28mint\u001b[39m):\n\u001b[1;32m    396\u001b[0m         func\u001b[38;5;241m.\u001b[39m\u001b[38;5;18m__name__\u001b[39m \u001b[38;5;241m=\u001b[39m name_or_ordinal\n",
      "\u001b[0;31mAttributeError\u001b[0m: ../../bin/libgcikpi.so: undefined symbol: spectral_method_coef"
     ]
    }
   ],
   "source": [
    "spectral.spectral_method_coef(2, 1.0, 1.0)"
   ]
  }
 ],
 "metadata": {
  "kernelspec": {
   "display_name": "Python 3",
   "language": "python",
   "name": "python3"
  },
  "language_info": {
   "codemirror_mode": {
    "name": "ipython",
    "version": 3
   },
   "file_extension": ".py",
   "mimetype": "text/x-python",
   "name": "python",
   "nbconvert_exporter": "python",
   "pygments_lexer": "ipython3",
   "version": "3.11.6"
  }
 },
 "nbformat": 4,
 "nbformat_minor": 2
}
